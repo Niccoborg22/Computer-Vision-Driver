{
  "cells": [
    {
      "attachments": {},
      "cell_type": "markdown",
      "metadata": {
        "id": "HM6bUMm_zrjr"
      },
      "source": [
        "## CNN Adam Computer Vision Model\n",
        "### Goal \n",
        "--- \n",
        "Predict what the driver is doing in each picture by using a CNN Model\n",
        "### Method\n",
        "---\n",
        "Using a pool of driver images, each taken in a car with a driver doing something\n",
        "in the car and categorize each image according to one of the following action: \n",
        "- c0: safe driving\n",
        "- c1: texting - right\n",
        "- c2: talking on the phone - right\n",
        "- c3: texting - left\n",
        "- c4: talking on the phone - left\n",
        "- c5: operating the radio\n",
        "- c6: drinking\n",
        "- c7: reaching behind\n",
        "- c8: hair and makeup\n",
        "- c9: talking to passenger\n",
        "\n",
        "## Data\n",
        "In order to train the model, the images have been saved in a Google Drive folder following this structure:\n",
        "- imgs\n",
        "  - train\n",
        "    - c0\n",
        "    - c1\n",
        "    - c2\n",
        "    - c3\n",
        "    - ...\n",
        "  - test\n"
      ]
    },
    {
      "cell_type": "code",
      "execution_count": 1,
      "metadata": {
        "colab": {
          "base_uri": "https://localhost:8080/"
        },
        "id": "y75aax9g2aZC",
        "outputId": "5771aea0-14c0-4c6d-ae79-4dab1abc5077"
      },
      "outputs": [
        {
          "name": "stdout",
          "output_type": "stream",
          "text": [
            "Mounted at /content/gdrive\n"
          ]
        }
      ],
      "source": [
        "# Load the data from Google Drive\n",
        "from google.colab import drive\n",
        "drive.mount('/content/gdrive')"
      ]
    },
    {
      "cell_type": "code",
      "execution_count": 2,
      "metadata": {
        "id": "rBkqmugl2hML"
      },
      "outputs": [],
      "source": [
        "images_path_train=\"/content/gdrive/My Drive/Colab Notebooks/Computer Vision/Individual Project/imgs/train\"\n",
        "images_path_test_small=\"/content/gdrive/My Drive/Colab Notebooks/Computer Vision/Individual Project/imgs/6imgtest\"\n",
        "images_path_test=\"/content/gdrive/My Drive/Colab Notebooks/Computer Vision/Individual Project/imgs/test/allimg\""
      ]
    },
    {
      "cell_type": "markdown",
      "metadata": {
        "id": "edA2Vm992Vcn"
      },
      "source": [
        "# CNN - Convolusional Neural Network\n",
        "In this first scenario I will explore a self build neural network and see what predictions is it possible to get. The model will be done using Keras"
      ]
    },
    {
      "cell_type": "code",
      "execution_count": 4,
      "metadata": {
        "colab": {
          "base_uri": "https://localhost:8080/"
        },
        "id": "0LxF5iZq0klI",
        "outputId": "d7e34b2d-1094-4d09-a1f0-f3fd37e12044"
      },
      "outputs": [
        {
          "name": "stdout",
          "output_type": "stream",
          "text": [
            "['c0', 'c1', 'c2', 'c3', 'c4', 'c5', 'c6', 'c7', 'c8', 'c9']\n"
          ]
        }
      ],
      "source": [
        "import os\n",
        "\n",
        "# All images are 128x128 pixels\n",
        "img_size = (128,128)\n",
        "\n",
        "# The folder contains a subfolder for each class of shape\n",
        "classes = sorted(os.listdir(images_path_train))\n",
        "print(classes)"
      ]
    },
    {
      "cell_type": "markdown",
      "metadata": {
        "id": "qasQOXQ55uSH"
      },
      "source": [
        "As expected the training folder we find are the ones previously explicitated.\n",
        "### Set up the Framework\n",
        "To set up the framework we will install all the libraries that we will need\n"
      ]
    },
    {
      "cell_type": "code",
      "execution_count": 3,
      "metadata": {
        "id": "jxJrH_t1zB9f"
      },
      "outputs": [],
      "source": [
        "import matplotlib.pyplot as plt\n",
        "import numpy as np\n",
        "import PIL\n",
        "import tensorflow as tf\n",
        "\n",
        "from tensorflow import keras\n",
        "from tensorflow.keras import layers\n",
        "from tensorflow.keras.models import Sequential"
      ]
    },
    {
      "cell_type": "markdown",
      "metadata": {
        "id": "TJqb_pNP6sMP"
      },
      "source": [
        "### Prepare the data\n",
        "In this part we will divide the images 70% to train the model and 30% to validate the findings. Moreover the data generator will assing \"hot encoded\" numeric labels to indicate which class each image belongs to"
      ]
    },
    {
      "cell_type": "code",
      "execution_count": null,
      "metadata": {
        "colab": {
          "base_uri": "https://localhost:8080/"
        },
        "id": "SnKvb9oS7THv",
        "outputId": "f376b125-421d-4dda-c2f8-7fa76335609d"
      },
      "outputs": [
        {
          "name": "stdout",
          "output_type": "stream",
          "text": [
            "Getting Data...\n",
            "Preparing training dataset...\n",
            "Found 15702 images belonging to 10 classes.\n",
            "Preparing validation dataset...\n",
            "Found 6722 images belonging to 10 classes.\n"
          ]
        }
      ],
      "source": [
        "from keras.preprocessing.image import ImageDataGenerator\n",
        "\n",
        "batch_size = 30\n",
        "\n",
        "print(\"Getting Data...\")\n",
        "datagen = ImageDataGenerator(rescale=1./255, # normalize pixel values\n",
        "                             validation_split=0.3) # hold back 30% of the images for validation\n",
        "\n",
        "print(\"Preparing training dataset...\")\n",
        "train_generator = datagen.flow_from_directory(\n",
        "    images_path_train,\n",
        "    target_size=img_size,\n",
        "    batch_size=batch_size,\n",
        "    class_mode='categorical',\n",
        "    subset='training') # set as training data\n",
        "\n",
        "print(\"Preparing validation dataset...\")\n",
        "validation_generator = datagen.flow_from_directory(\n",
        "    images_path_train,\n",
        "    target_size=img_size,\n",
        "    batch_size=batch_size,\n",
        "    class_mode='categorical',\n",
        "    subset='validation') # set as validation data"
      ]
    },
    {
      "attachments": {},
      "cell_type": "markdown",
      "metadata": {
        "id": "O2glFBP58AYJ"
      },
      "source": [
        "### Define the CNN\n",
        "The model can now be trained. With Keras we can choose different classifiers, we use the **Adam** classifier. Adam optimization is a stochastic gradient descent method that is based on adaptive estimation of first-order and second-order moments"
      ]
    },
    {
      "cell_type": "code",
      "execution_count": null,
      "metadata": {
        "colab": {
          "base_uri": "https://localhost:8080/"
        },
        "id": "aIc-gfE28Kra",
        "outputId": "f054da69-cfe7-4110-99e5-5e1e309d14fb"
      },
      "outputs": [
        {
          "name": "stdout",
          "output_type": "stream",
          "text": [
            "Model: \"sequential_3\"\n",
            "_________________________________________________________________\n",
            " Layer (type)                Output Shape              Param #   \n",
            "=================================================================\n",
            " conv2d_6 (Conv2D)           (None, 123, 123, 32)      3488      \n",
            "                                                                 \n",
            " max_pooling2d_6 (MaxPooling  (None, 61, 61, 32)       0         \n",
            " 2D)                                                             \n",
            "                                                                 \n",
            " conv2d_7 (Conv2D)           (None, 56, 56, 32)        36896     \n",
            "                                                                 \n",
            " max_pooling2d_7 (MaxPooling  (None, 28, 28, 32)       0         \n",
            " 2D)                                                             \n",
            "                                                                 \n",
            " flatten_4 (Flatten)         (None, 25088)             0         \n",
            "                                                                 \n",
            " dense_4 (Dense)             (None, 10)                250890    \n",
            "                                                                 \n",
            "=================================================================\n",
            "Total params: 291,274\n",
            "Trainable params: 291,274\n",
            "Non-trainable params: 0\n",
            "_________________________________________________________________\n",
            "None\n"
          ]
        }
      ],
      "source": [
        "# ADAM\n",
        "from keras.models import Sequential\n",
        "from keras.layers import Conv2D, MaxPooling2D\n",
        "from keras.layers import Activation, Flatten, Dense\n",
        "from keras import optimizers\n",
        "import tensorflow as tf\n",
        "\n",
        "#Dense is the fully connected layer\n",
        "#Flatten is used after all CNN layers and before fully connected layer\n",
        "#Conv2D is the 2D convolution layer\n",
        "#MaxPooling2D is the 2D maxx pooling layer\n",
        "\n",
        "# Define the model as a sequence of layers\n",
        "model = Sequential()\n",
        "\n",
        "# The input layer accepts an image and applies a convolution that uses 32 6x6 filters and a rectified linear unit activation function\n",
        "model.add(Conv2D(32, (6, 6), input_shape=train_generator.image_shape, activation='relu'))\n",
        "\n",
        "# Next we'll add a max pooling layer with a 2x2 patch\n",
        "model.add(MaxPooling2D(pool_size=(2,2)))\n",
        "\n",
        "# We can add as many layers as we think necessary - here we'll add another convolution layer and another and max poolinglayer\n",
        "model.add(Conv2D(32, (6, 6), activation='relu'))\n",
        "model.add(MaxPooling2D(pool_size=(2, 2)))\n",
        "\n",
        "# Now we'll flatten the feature maps and generate an output layer with a predicted probability for each class\n",
        "model.add(Flatten())\n",
        "model.add(Dense(train_generator.num_classes, activation='softmax'))\n",
        "\n",
        "# We'll use the ADAM optimizer\n",
        "#other optimizers can also be used for example SGD stochastic gradient descent\n",
        "opt = tf.optimizers.Adam(learning_rate=0.001)\n",
        "\n",
        "# With the layers defined, we can now compile the model for categorical (multi-class) classification\n",
        "model.compile(loss='categorical_crossentropy',\n",
        "              optimizer=opt,\n",
        "              metrics=['accuracy'])\n",
        "\n",
        "print(model.summary())"
      ]
    },
    {
      "cell_type": "markdown",
      "metadata": {
        "id": "ll0poCEGCH_m"
      },
      "source": [
        "### Train the model \n",
        "With the layers of the CNN defined, we're ready to train the model using our image data. "
      ]
    },
    {
      "cell_type": "code",
      "execution_count": null,
      "metadata": {
        "colab": {
          "base_uri": "https://localhost:8080/"
        },
        "id": "_keG85MzCPbx",
        "outputId": "77f3780c-088d-482b-e84e-274ffb06ba86"
      },
      "outputs": [
        {
          "name": "stdout",
          "output_type": "stream",
          "text": [
            "523/523 [==============================] - 4288s 8s/step - loss: 0.4493 - accuracy: 0.8553 - val_loss: 0.1067 - val_accuracy: 0.9702\n"
          ]
        }
      ],
      "source": [
        "# Train the model over 1 epochs\n",
        "num_epochs = 1\n",
        "history = model.fit(\n",
        "    train_generator,\n",
        "    steps_per_epoch = train_generator.samples // batch_size,\n",
        "    validation_data = validation_generator, \n",
        "    validation_steps = validation_generator.samples // batch_size,\n",
        "    epochs = num_epochs)"
      ]
    },
    {
      "cell_type": "markdown",
      "metadata": {
        "id": "X4LuaAENCQ0x"
      },
      "source": [
        "### Evaluate the model\n",
        "In this part we can evaluate how our model is performing"
      ]
    },
    {
      "cell_type": "code",
      "execution_count": null,
      "metadata": {
        "colab": {
          "base_uri": "https://localhost:8080/",
          "height": 494
        },
        "id": "CgJpo6x_Cljh",
        "outputId": "bb14fc7f-324e-405e-b436-1ada6696d93e"
      },
      "outputs": [
        {
          "name": "stdout",
          "output_type": "stream",
          "text": [
            "Generating predictions from validation data...\n",
            "1/1 [==============================] - 0s 410ms/step\n"
          ]
        },
        {
          "data": {
            "image/png": "[encoded data removed]",
            "text/plain": [
              "<Figure size 640x480 with 2 Axes>"
            ]
          },
          "metadata": {},
          "output_type": "display_data"
        }
      ],
      "source": [
        "import numpy as np\n",
        "from sklearn.metrics import confusion_matrix\n",
        "import matplotlib.pyplot as plt\n",
        "%matplotlib inline\n",
        "\n",
        "print(\"Generating predictions from validation data...\")\n",
        "# Get the image and label arrays for the first batch of validation data\n",
        "x_test = validation_generator[0][0]\n",
        "y_test = validation_generator[0][1]\n",
        "\n",
        "# Use the moedl to predict the class\n",
        "class_probabilities = model.predict(x_test)\n",
        "\n",
        "# The model returns a probability value for each class\n",
        "# The one with the highest probability is the predicted class\n",
        "predictions = np.argmax(class_probabilities, axis=1)\n",
        "\n",
        "# The actual labels are hot encoded (e.g. [0 1 0], so get the one with the value 1\n",
        "true_labels = np.argmax(y_test, axis=1)\n",
        "\n",
        "# Plot the confusion matrix\n",
        "cm = confusion_matrix(true_labels, predictions)\n",
        "plt.imshow(cm, interpolation=\"nearest\", cmap=plt.cm.Blues)\n",
        "plt.colorbar()\n",
        "tick_marks = np.arange(len(classes))\n",
        "plt.xticks(tick_marks, classes, rotation=85)\n",
        "plt.yticks(tick_marks, classes)\n",
        "plt.xlabel(\"Predicted Class\")\n",
        "plt.ylabel(\"True Class\")\n",
        "plt.show()"
      ]
    },
    {
      "cell_type": "markdown",
      "metadata": {
        "id": "eH7WG8rUESOZ"
      },
      "source": [
        "### Save the model and test it\n",
        "In this part of the model we will save our mdoele and try to test it with some picture to see how it performs"
      ]
    },
    {
      "cell_type": "code",
      "execution_count": null,
      "metadata": {
        "id": "1a3opfn6EYAv"
      },
      "outputs": [],
      "source": [
        "from keras.models import load_model\n",
        "\n",
        "modelFileName = 'shape-classifier.h5'\n",
        "\n",
        "model.save(modelFileName) # saves the trained model\n",
        "print(\"Model saved.\")\n",
        "\n",
        "del model  # deletes the existing model variable"
      ]
    },
    {
      "cell_type": "code",
      "execution_count": null,
      "metadata": {
        "id": "lrwf-Z6wEr5V"
      },
      "outputs": [],
      "source": [
        "# Helper function to resize image\n",
        "def resize_image(src_img, size=(128,128), bg_color=\"white\"): \n",
        "    from PIL import Image\n",
        "\n",
        "    # rescale the image so the longest edge is the right size\n",
        "    src_img.thumbnail(size, Image.ANTIALIAS)\n",
        "    \n",
        "    # Create a new image of the right shape\n",
        "    new_image = Image.new(\"RGB\", size, bg_color)\n",
        "    \n",
        "    # Paste the rescaled image onto the new background\n",
        "    new_image.paste(src_img, (int((size[0] - src_img.size[0]) / 2), int((size[1] - src_img.size[1]) / 2)))\n",
        "  \n",
        "    # return the resized image\n",
        "    return new_image\n",
        "\n",
        "# Function to predict the class of an image\n",
        "def predict_image(classifier, image_array):\n",
        "    import numpy as np\n",
        "    \n",
        "    # We need to format the input to match the training data\n",
        "    # The data generator loaded the values as floating point numbers\n",
        "    # and normalized the pixel values, so...\n",
        "    img_features = image_array.astype('float32')\n",
        "    img_features /= 255\n",
        "    \n",
        "    # These are the classes our model can predict\n",
        "    classnames = ['c0', 'c1', 'c2', 'c3', 'c4', 'c5', 'c6', 'c7', 'c8', 'c9']\n",
        "    \n",
        "    # Predict the class of each input image\n",
        "    predictions = classifier.predict(img_features)\n",
        "    \n",
        "    predicted_classes = []\n",
        "    for prediction in predictions:\n",
        "        # The prediction for each image is the probability for each class, e.g. [0.8, 0.1, 0.2]\n",
        "        # So get the index of the highest probability\n",
        "        class_idx = np.argmax(prediction)\n",
        "        # And append the corresponding class name to the results\n",
        "        predicted_classes.append(classnames[int(class_idx)])\n",
        "    # Return the predictions\n",
        "    return predicted_classes\n",
        "\n",
        "print(\"Functions created - ready to use model for inference.\")"
      ]
    },
    {
      "cell_type": "code",
      "execution_count": null,
      "metadata": {
        "id": "uILCdcEIEsgT"
      },
      "outputs": [],
      "source": [
        "import os\n",
        "from random import randint\n",
        "import numpy as np\n",
        "from PIL import Image\n",
        "from keras.models import load_model\n",
        "from matplotlib import pyplot as plt\n",
        "%matplotlib inline\n",
        "\n",
        "# load the saved model\n",
        "modelFileName = 'shape-classifier.h5'\n",
        "model = load_model(modelFileName) \n",
        "\n",
        "test_image_files = os.listdir(images_path_test_small)\n",
        "\n",
        "# Empty array on which to store the images\n",
        "image_arrays = []\n",
        "\n",
        "size = (128,128)\n",
        "background_color=\"white\"\n",
        "\n",
        "fig = plt.figure(figsize=(12, 8))\n",
        "\n",
        "# Get the images and show the predicted classes\n",
        "for file_idx in range(len(test_image_files)):\n",
        "    img = Image.open(os.path.join(images_path_test_small, test_image_files[file_idx]))\n",
        "    \n",
        "    # resize the image so it matches the training set - it  must be the same size as the images on which the model was trained\n",
        "    resized_img = np.array(resize_image(img, size, background_color))\n",
        "                      \n",
        "    # Add the image to the array of images\n",
        "    image_arrays.append(resized_img)\n",
        "\n",
        "# Get predictions from the array of image arrays\n",
        "# Note that the model expects an array of 1 or more images - just like the batches on which it was trained\n",
        "predictions = predict_image(model, np.array(image_arrays))\n",
        "\n",
        "# plot easch image with its corresponding prediction\n",
        "for idx in range(len(predictions)):\n",
        "    a=fig.add_subplot(1,len(predictions),idx+1)\n",
        "    imgplot = plt.imshow(image_arrays[idx])\n",
        "    a.set_title(predictions[idx])"
      ]
    }
  ],
  "metadata": {
    "colab": {
      "provenance": []
    },
    "kernelspec": {
      "display_name": "Python 3",
      "name": "python3"
    },
    "language_info": {
      "name": "python"
    }
  },
  "nbformat": 4,
  "nbformat_minor": 0
}
